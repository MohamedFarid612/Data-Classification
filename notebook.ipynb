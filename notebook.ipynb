{
 "cells": [
  {
   "cell_type": "markdown",
   "id": "aa3a76b2-6169-4efa-a6e5-53a3164784af",
   "metadata": {},
   "source": [
    "# Balancing the Dataset using pandas"
   ]
  },
  {
   "cell_type": "code",
   "execution_count": 1,
   "id": "c0443410-472f-47d8-b68c-f09f9e38174b",
   "metadata": {},
   "outputs": [],
   "source": [
    "import pandas as pd\n",
    "from sklearn.model_selection import train_test_split\n",
    "path = \"./dataJoe/\""
   ]
  },
  {
   "cell_type": "code",
   "execution_count": 2,
   "id": "03c3286e-3a34-4c16-b3cf-8257b891edf3",
   "metadata": {},
   "outputs": [],
   "source": [
    "df =pd.read_csv(path+'dataset.csv')\n",
    "classG = df[df['class'] == 'g']\n",
    "classH = df[df['class'] == 'h']\n",
    "countG, countH = df['class'].value_counts()"
   ]
  },
  {
   "cell_type": "code",
   "execution_count": 3,
   "id": "a22a375d-c6d0-43b4-a721-39744ef06662",
   "metadata": {},
   "outputs": [],
   "source": [
    "classGUnder = classG.sample(countH)"
   ]
  },
  {
   "cell_type": "code",
   "execution_count": 4,
   "id": "0e65b281-097e-488c-90a3-8dc2a607ec49",
   "metadata": {},
   "outputs": [],
   "source": [
    "newDataset = pd.concat([classGUnder, classH])"
   ]
  },
  {
   "cell_type": "code",
   "execution_count": 5,
   "id": "28880509-4d68-4bc2-a2d0-1c54b3a88896",
   "metadata": {},
   "outputs": [],
   "source": [
    "df.to_csv(path+'balanced_dataset.csv',index=True)"
   ]
  },
  {
   "cell_type": "markdown",
   "id": "8b044c9b-0823-4281-bb4b-427dff960726",
   "metadata": {},
   "source": [
    "# Data Split"
   ]
  },
  {
   "cell_type": "code",
   "execution_count": 6,
   "id": "42972886-e1d7-40c6-b069-f114c30f732b",
   "metadata": {},
   "outputs": [],
   "source": [
    "traindf, testdf = train_test_split(newDataset, test_size=0.3,random_state=42,shuffle=True)"
   ]
  },
  {
   "cell_type": "code",
   "execution_count": 8,
   "id": "7e795748-57fc-4856-9f78-2243fb80c479",
   "metadata": {},
   "outputs": [],
   "source": [
    "traindf.to_csv(path+'train_dataset.csv',index=True)\n",
    "testdf.to_csv(path+'test_dataset.csv',index=True)"
   ]
  },
  {
   "cell_type": "markdown",
   "id": "1f7f0310-2a3b-42aa-8d18-e951c341a885",
   "metadata": {},
   "source": [
    "# Splitting Train dataset into folds"
   ]
  },
  {
   "cell_type": "code",
   "execution_count": null,
   "id": "9aba8b9d-7eae-41ad-955f-8d8faafaf35f",
   "metadata": {},
   "outputs": [],
   "source": []
  },
  {
   "cell_type": "markdown",
   "id": "852d2750-5eb8-4183-8842-d64eb71307bd",
   "metadata": {
    "tags": []
   },
   "source": [
    "# Decision Tree"
   ]
  },
  {
   "cell_type": "code",
   "execution_count": null,
   "id": "b76cd567-582f-48ad-8b8c-b36f3ad75272",
   "metadata": {},
   "outputs": [],
   "source": []
  },
  {
   "cell_type": "markdown",
   "id": "041b8957-c174-4987-abb8-8b9444c714f5",
   "metadata": {},
   "source": [
    "# AdaBoost"
   ]
  },
  {
   "cell_type": "code",
   "execution_count": null,
   "id": "0db53f3c-672e-42f7-97de-881abd5d1448",
   "metadata": {},
   "outputs": [],
   "source": []
  },
  {
   "cell_type": "markdown",
   "id": "3e3062f0-2adc-487a-b6d3-13e11cc9b809",
   "metadata": {},
   "source": [
    "# KNN"
   ]
  },
  {
   "cell_type": "code",
   "execution_count": null,
   "id": "efad1311-b762-4790-b20f-d1ffef75c80b",
   "metadata": {},
   "outputs": [],
   "source": []
  },
  {
   "cell_type": "markdown",
   "id": "49063f49-4fe1-4b89-9160-6d47b3731f16",
   "metadata": {},
   "source": [
    "# Random Forest"
   ]
  },
  {
   "cell_type": "code",
   "execution_count": null,
   "id": "60fbd769-bbf8-4e1d-a1b5-b4f68f1b4548",
   "metadata": {},
   "outputs": [],
   "source": []
  },
  {
   "cell_type": "markdown",
   "id": "be28a6af-b023-44e2-b335-213def5aa789",
   "metadata": {},
   "source": [
    "# Naive Bayes"
   ]
  },
  {
   "cell_type": "code",
   "execution_count": null,
   "id": "d49ae3f3-608f-4e90-9d45-a1065940a7e7",
   "metadata": {},
   "outputs": [],
   "source": []
  }
 ],
 "metadata": {
  "kernelspec": {
   "display_name": "Python 3",
   "language": "python",
   "name": "python3"
  },
  "language_info": {
   "codemirror_mode": {
    "name": "ipython",
    "version": 3
   },
   "file_extension": ".py",
   "mimetype": "text/x-python",
   "name": "python",
   "nbconvert_exporter": "python",
   "pygments_lexer": "ipython3",
   "version": "3.9.6"
  }
 },
 "nbformat": 4,
 "nbformat_minor": 5
}
