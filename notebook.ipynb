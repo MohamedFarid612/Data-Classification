{
 "cells": [
  {
   "attachments": {},
   "cell_type": "markdown",
   "id": "aa3a76b2-6169-4efa-a6e5-53a3164784af",
   "metadata": {},
   "source": [
    "# Dataset Balancing using pandas"
   ]
  },
  {
   "cell_type": "code",
   "execution_count": null,
   "id": "c0443410-472f-47d8-b68c-f09f9e38174b",
   "metadata": {},
   "outputs": [],
   "source": [
    "import pandas as pd\n",
    "from sklearn.model_selection import train_test_split\n",
    "import matplotlib.pyplot as plt\n",
    "path = \"./dataJoe/\""
   ]
  },
  {
   "cell_type": "code",
   "execution_count": null,
   "id": "03c3286e-3a34-4c16-b3cf-8257b891edf3",
   "metadata": {},
   "outputs": [],
   "source": [
    "# Don't run this line and the next 3 ya hamo w ya adham\n",
    "df =pd.read_csv(path+'dataset.csv')\n",
    "classG = df[df['class'] == 'g']\n",
    "classH = df[df['class'] == 'h']\n",
    "countG, countH = df['class'].value_counts()"
   ]
  },
  {
   "cell_type": "code",
   "execution_count": null,
   "id": "a22a375d-c6d0-43b4-a721-39744ef06662",
   "metadata": {},
   "outputs": [],
   "source": [
    "classGUnder = classG.sample(countH)"
   ]
  },
  {
   "cell_type": "code",
   "execution_count": null,
   "id": "0e65b281-097e-488c-90a3-8dc2a607ec49",
   "metadata": {},
   "outputs": [],
   "source": [
    "newDataset = pd.concat([classGUnder, classH])"
   ]
  },
  {
   "cell_type": "code",
   "execution_count": null,
   "id": "28880509-4d68-4bc2-a2d0-1c54b3a88896",
   "metadata": {},
   "outputs": [],
   "source": [
    "df.to_csv(path+'balanced_dataset.csv',index=True)"
   ]
  },
  {
   "attachments": {},
   "cell_type": "markdown",
   "id": "614da3fe",
   "metadata": {},
   "source": [
    "# Reading Data without recreating it each time"
   ]
  },
  {
   "cell_type": "code",
   "execution_count": 37,
   "id": "017d7f37",
   "metadata": {},
   "outputs": [],
   "source": [
    "newDataset = pd.read_csv(path+'balanced_dataset.csv')"
   ]
  },
  {
   "cell_type": "markdown",
   "id": "8b044c9b-0823-4281-bb4b-427dff960726",
   "metadata": {},
   "source": [
    "# Data Split"
   ]
  },
  {
   "cell_type": "code",
   "execution_count": null,
   "id": "42972886-e1d7-40c6-b069-f114c30f732b",
   "metadata": {},
   "outputs": [],
   "source": [
    "traindf, testdf = train_test_split(newDataset, test_size=0.3,random_state=42,shuffle=True)"
   ]
  },
  {
   "cell_type": "code",
   "execution_count": null,
   "id": "7e795748-57fc-4856-9f78-2243fb80c479",
   "metadata": {},
   "outputs": [],
   "source": [
    "traindf.to_csv(path+'train_dataset.csv',index=True)\n",
    "testdf.to_csv(path+'test_dataset.csv',index=True)\n",
    "x= newDataset.drop('class',axis=1) # 1 for column, 0 for index\n",
    "y= newDataset['class']\n",
    "x_train, x_test, y_train, y_test =train_test_split(x,y, test_size=0.3,random_state=42,shuffle=True)"
   ]
  },
  {
   "cell_type": "markdown",
   "id": "6c87e601-4d62-4660-be88-09e07e87776a",
   "metadata": {},
   "source": [
    "# Importing the models"
   ]
  },
  {
   "cell_type": "code",
   "execution_count": 26,
   "id": "87bc722d-8e0a-4845-a987-502e39361f0b",
   "metadata": {},
   "outputs": [],
   "source": [
    "from sklearn.metrics import classification_report, accuracy_score, confusion_matrix, ConfusionMatrixDisplay\n",
    "from sklearn.naive_bayes import GaussianNB\n",
    "from sklearn import tree\n",
    "from sklearn.neighbors import KNeighborsClassifier\n",
    "from sklearn.model_selection import cross_validate\n",
    "from sklearn.model_selection import cross_val_score"
   ]
  },
  {
   "cell_type": "markdown",
   "id": "852d2750-5eb8-4183-8842-d64eb71307bd",
   "metadata": {
    "tags": []
   },
   "source": [
    "# Decision Tree"
   ]
  },
  {
   "cell_type": "code",
   "execution_count": null,
   "id": "b76cd567-582f-48ad-8b8c-b36f3ad75272",
   "metadata": {},
   "outputs": [],
   "source": [
    "model = tree.DecisionTreeClassifier()\n",
    "model.fit(x_train,y_train)\n",
    "y_pred = model.predict(x_test)"
   ]
  },
  {
   "cell_type": "code",
   "execution_count": null,
   "id": "9decd316-6f56-4887-9996-f2ac851b395f",
   "metadata": {},
   "outputs": [],
   "source": [
    "print(classification_report(y_test,y_pred))"
   ]
  },
  {
   "cell_type": "code",
   "execution_count": null,
   "id": "7f9ba4cc-60af-4730-8caf-dc71a0887812",
   "metadata": {},
   "outputs": [],
   "source": [
    "ConfusionMatrixDisplay(confusion_matrix(y_test, y_pred), display_labels=model.classes_).plot()\n",
    "plt.show()"
   ]
  },
  {
   "cell_type": "code",
   "execution_count": null,
   "id": "f3ece9ef-dcf1-4900-90c2-66547a4572fd",
   "metadata": {},
   "outputs": [],
   "source": [
    "tree.plot_tree(model)\n",
    "plt.show()"
   ]
  },
  {
   "cell_type": "markdown",
   "id": "041b8957-c174-4987-abb8-8b9444c714f5",
   "metadata": {},
   "source": [
    "# AdaBoost"
   ]
  },
  {
   "cell_type": "code",
   "execution_count": null,
   "id": "0db53f3c-672e-42f7-97de-881abd5d1448",
   "metadata": {},
   "outputs": [],
   "source": []
  },
  {
   "cell_type": "markdown",
   "id": "3e3062f0-2adc-487a-b6d3-13e11cc9b809",
   "metadata": {},
   "source": [
    "# KNN"
   ]
  },
  {
   "cell_type": "code",
   "execution_count": 28,
   "id": "efad1311-b762-4790-b20f-d1ffef75c80b",
   "metadata": {},
   "outputs": [],
   "source": [
    "greatestScore = 0\n",
    "greatestK = 0\n",
    "for k in range(1,100):\n",
    "    model = KNeighborsClassifier(n_neighbors=k)\n",
    "    # scores = cross_validate(model, x_train, y_train, cv=10,scoring='accuracy')\n",
    "    # score = scores['test_score'].mean()\n",
    "    scores = cross_val_score(model, x_train, y_train, cv=10)\n",
    "    score = scores.mean()\n",
    "    if score > greatestScore:\n",
    "        greatestScore = score\n",
    "        greatestK = k\n"
   ]
  },
  {
   "cell_type": "code",
   "execution_count": 29,
   "id": "efeae5cf",
   "metadata": {},
   "outputs": [
    {
     "data": {
      "text/plain": [
       "37"
      ]
     },
     "execution_count": 29,
     "metadata": {},
     "output_type": "execute_result"
    }
   ],
   "source": [
    "greatestK"
   ]
  },
  {
   "cell_type": "code",
   "execution_count": 34,
   "id": "fbb1d4de",
   "metadata": {},
   "outputs": [],
   "source": [
    "model = KNeighborsClassifier(n_neighbors=37)\n",
    "model.fit(x_train,y_train)\n",
    "y_pred = model.predict(x_test)"
   ]
  },
  {
   "cell_type": "code",
   "execution_count": 35,
   "id": "f5ba38d6",
   "metadata": {},
   "outputs": [
    {
     "name": "stdout",
     "output_type": "stream",
     "text": [
      "              precision    recall  f1-score   support\n",
      "\n",
      "           g       0.72      0.85      0.78      2024\n",
      "           h       0.81      0.66      0.73      1989\n",
      "\n",
      "    accuracy                           0.76      4013\n",
      "   macro avg       0.77      0.76      0.75      4013\n",
      "weighted avg       0.77      0.76      0.75      4013\n",
      "\n"
     ]
    }
   ],
   "source": [
    "print(classification_report(y_test,y_pred))"
   ]
  },
  {
   "cell_type": "code",
   "execution_count": 36,
   "id": "5a7a8687",
   "metadata": {},
   "outputs": [
    {
     "data": {
      "image/png": "[encoded data removed]",
      "text/plain": [
       "<Figure size 640x480 with 2 Axes>"
      ]
     },
     "metadata": {},
     "output_type": "display_data"
    }
   ],
   "source": [
    "ConfusionMatrixDisplay(confusion_matrix(y_test, y_pred), display_labels=model.classes_).plot()\n",
    "plt.show()"
   ]
  },
  {
   "cell_type": "markdown",
   "id": "49063f49-4fe1-4b89-9160-6d47b3731f16",
   "metadata": {},
   "source": [
    "# Random Forest"
   ]
  },
  {
   "cell_type": "code",
   "execution_count": null,
   "id": "60fbd769-bbf8-4e1d-a1b5-b4f68f1b4548",
   "metadata": {},
   "outputs": [],
   "source": []
  },
  {
   "cell_type": "markdown",
   "id": "be28a6af-b023-44e2-b335-213def5aa789",
   "metadata": {},
   "source": [
    "# Naive Bayes"
   ]
  },
  {
   "cell_type": "code",
   "execution_count": null,
   "id": "1a17a408-e356-4e57-8383-1e94dc564b4e",
   "metadata": {},
   "outputs": [],
   "source": [
    "model = GaussianNB()\n",
    "model.fit(x_train,y_train)\n",
    "y_pred = model.predict(x_test)"
   ]
  },
  {
   "cell_type": "code",
   "execution_count": null,
   "id": "afb83578-903a-4a9b-a954-7d5bddcac4ce",
   "metadata": {},
   "outputs": [],
   "source": [
    "print(classification_report(y_test,y_pred))"
   ]
  },
  {
   "cell_type": "code",
   "execution_count": null,
   "id": "460939a8-dbfa-45eb-96e5-94248b2e544d",
   "metadata": {},
   "outputs": [],
   "source": [
    "ConfusionMatrixDisplay(confusion_matrix(y_test, y_pred), display_labels=model.classes_).plot()\n",
    "plt.show()"
   ]
  }
 ],
 "metadata": {
  "kernelspec": {
   "display_name": "Python 3",
   "language": "python",
   "name": "python3"
  },
  "language_info": {
   "codemirror_mode": {
    "name": "ipython",
    "version": 3
   },
   "file_extension": ".py",
   "mimetype": "text/x-python",
   "name": "python",
   "nbconvert_exporter": "python",
   "pygments_lexer": "ipython3",
   "version": "3.10.9"
  },
  "vscode": {
   "interpreter": {
    "hash": "12622ac30dd972fdcdd28afd1b2dff2721be0906c341ae03419d68acefbfc641"
   }
  }
 },
 "nbformat": 4,
 "nbformat_minor": 5
}
