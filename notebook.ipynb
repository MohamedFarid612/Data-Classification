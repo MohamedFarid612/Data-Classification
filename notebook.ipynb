{
 "cells": [
  {
   "cell_type": "markdown",
   "id": "aa3a76b2-6169-4efa-a6e5-53a3164784af",
   "metadata": {},
   "source": [
    "# Balancing the Dataset using pandas"
   ]
  },
  {
   "cell_type": "code",
   "execution_count": 1,
   "id": "c0443410-472f-47d8-b68c-f09f9e38174b",
   "metadata": {},
   "outputs": [],
   "source": [
    "import pandas as pd\n",
    "from sklearn.model_selection import train_test_split\n",
    "import matplotlib.pyplot as plt\n",
    "path = \"./dataJoe/\""
   ]
  },
  {
   "cell_type": "code",
   "execution_count": 2,
   "id": "03c3286e-3a34-4c16-b3cf-8257b891edf3",
   "metadata": {},
   "outputs": [],
   "source": [
    "df =pd.read_csv(path+'dataset.csv')\n",
    "classG = df[df['class'] == 'g']\n",
    "classH = df[df['class'] == 'h']\n",
    "countG, countH = df['class'].value_counts()"
   ]
  },
  {
   "cell_type": "code",
   "execution_count": 3,
   "id": "a22a375d-c6d0-43b4-a721-39744ef06662",
   "metadata": {},
   "outputs": [],
   "source": [
    "classGUnder = classG.sample(countH)"
   ]
  },
  {
   "cell_type": "code",
   "execution_count": 4,
   "id": "0e65b281-097e-488c-90a3-8dc2a607ec49",
   "metadata": {},
   "outputs": [],
   "source": [
    "newDataset = pd.concat([classGUnder, classH])"
   ]
  },
  {
   "cell_type": "code",
   "execution_count": 5,
   "id": "28880509-4d68-4bc2-a2d0-1c54b3a88896",
   "metadata": {},
   "outputs": [],
   "source": [
    "df.to_csv(path+'balanced_dataset.csv',index=True)"
   ]
  },
  {
   "cell_type": "markdown",
   "id": "8b044c9b-0823-4281-bb4b-427dff960726",
   "metadata": {},
   "source": [
    "# Data Split"
   ]
  },
  {
   "cell_type": "code",
   "execution_count": 6,
   "id": "42972886-e1d7-40c6-b069-f114c30f732b",
   "metadata": {},
   "outputs": [],
   "source": [
    "traindf, testdf = train_test_split(newDataset, test_size=0.3,random_state=42,shuffle=True)"
   ]
  },
  {
   "cell_type": "code",
   "execution_count": 7,
   "id": "7e795748-57fc-4856-9f78-2243fb80c479",
   "metadata": {},
   "outputs": [],
   "source": [
    "traindf.to_csv(path+'train_dataset.csv',index=True)\n",
    "testdf.to_csv(path+'test_dataset.csv',index=True)"
   ]
  },
  {
   "cell_type": "markdown",
   "id": "1f7f0310-2a3b-42aa-8d18-e951c341a885",
   "metadata": {},
   "source": [
    "# Splitting Train dataset into folds"
   ]
  },
  {
   "cell_type": "code",
   "execution_count": null,
   "id": "9aba8b9d-7eae-41ad-955f-8d8faafaf35f",
   "metadata": {},
   "outputs": [],
   "source": []
  },
  {
   "cell_type": "markdown",
   "id": "6c87e601-4d62-4660-be88-09e07e87776a",
   "metadata": {},
   "source": [
    "# Importing the models"
   ]
  },
  {
   "cell_type": "code",
   "execution_count": 8,
   "id": "87bc722d-8e0a-4845-a987-502e39361f0b",
   "metadata": {},
   "outputs": [],
   "source": [
    "from sklearn.metrics import classification_report, accuracy_score, confusion_matrix, ConfusionMatrixDisplay\n",
    "from sklearn.naive_bayes import GaussianNB"
   ]
  },
  {
   "cell_type": "markdown",
   "id": "852d2750-5eb8-4183-8842-d64eb71307bd",
   "metadata": {
    "tags": []
   },
   "source": [
    "# Decision Tree"
   ]
  },
  {
   "cell_type": "code",
   "execution_count": null,
   "id": "b76cd567-582f-48ad-8b8c-b36f3ad75272",
   "metadata": {},
   "outputs": [],
   "source": []
  },
  {
   "cell_type": "markdown",
   "id": "041b8957-c174-4987-abb8-8b9444c714f5",
   "metadata": {},
   "source": [
    "# AdaBoost"
   ]
  },
  {
   "cell_type": "code",
   "execution_count": null,
   "id": "0db53f3c-672e-42f7-97de-881abd5d1448",
   "metadata": {},
   "outputs": [],
   "source": []
  },
  {
   "cell_type": "markdown",
   "id": "3e3062f0-2adc-487a-b6d3-13e11cc9b809",
   "metadata": {},
   "source": [
    "# KNN"
   ]
  },
  {
   "cell_type": "code",
   "execution_count": null,
   "id": "efad1311-b762-4790-b20f-d1ffef75c80b",
   "metadata": {},
   "outputs": [],
   "source": []
  },
  {
   "cell_type": "markdown",
   "id": "49063f49-4fe1-4b89-9160-6d47b3731f16",
   "metadata": {},
   "source": [
    "# Random Forest"
   ]
  },
  {
   "cell_type": "code",
   "execution_count": null,
   "id": "60fbd769-bbf8-4e1d-a1b5-b4f68f1b4548",
   "metadata": {},
   "outputs": [],
   "source": []
  },
  {
   "cell_type": "markdown",
   "id": "be28a6af-b023-44e2-b335-213def5aa789",
   "metadata": {},
   "source": [
    "# Naive Bayes"
   ]
  },
  {
   "cell_type": "code",
   "execution_count": 9,
   "id": "d11309ea-65d6-4bfc-ae8d-51f00aad2b07",
   "metadata": {},
   "outputs": [
    {
     "data": {
      "text/html": [
       "<div>\n",
       "<style scoped>\n",
       "    .dataframe tbody tr th:only-of-type {\n",
       "        vertical-align: middle;\n",
       "    }\n",
       "\n",
       "    .dataframe tbody tr th {\n",
       "        vertical-align: top;\n",
       "    }\n",
       "\n",
       "    .dataframe thead th {\n",
       "        text-align: right;\n",
       "    }\n",
       "</style>\n",
       "<table border=\"1\" class=\"dataframe\">\n",
       "  <thead>\n",
       "    <tr style=\"text-align: right;\">\n",
       "      <th></th>\n",
       "      <th>fLength</th>\n",
       "      <th>fWidth</th>\n",
       "      <th>fSize</th>\n",
       "      <th>fConc</th>\n",
       "      <th>fConc1</th>\n",
       "      <th>fAsym</th>\n",
       "      <th>fM3Long</th>\n",
       "      <th>fM3Trans</th>\n",
       "      <th>fAlpha</th>\n",
       "      <th>fDist</th>\n",
       "      <th>class</th>\n",
       "    </tr>\n",
       "  </thead>\n",
       "  <tbody>\n",
       "    <tr>\n",
       "      <th>2117</th>\n",
       "      <td>45.5945</td>\n",
       "      <td>21.2593</td>\n",
       "      <td>3.0538</td>\n",
       "      <td>0.2102</td>\n",
       "      <td>0.1144</td>\n",
       "      <td>-19.4628</td>\n",
       "      <td>-32.9385</td>\n",
       "      <td>6.9607</td>\n",
       "      <td>9.0222</td>\n",
       "      <td>216.7460</td>\n",
       "      <td>g</td>\n",
       "    </tr>\n",
       "    <tr>\n",
       "      <th>10036</th>\n",
       "      <td>53.4552</td>\n",
       "      <td>13.4808</td>\n",
       "      <td>2.7536</td>\n",
       "      <td>0.3704</td>\n",
       "      <td>0.2055</td>\n",
       "      <td>-79.4267</td>\n",
       "      <td>30.9270</td>\n",
       "      <td>11.7094</td>\n",
       "      <td>10.0836</td>\n",
       "      <td>252.9500</td>\n",
       "      <td>g</td>\n",
       "    </tr>\n",
       "    <tr>\n",
       "      <th>8166</th>\n",
       "      <td>40.6449</td>\n",
       "      <td>13.3364</td>\n",
       "      <td>2.5855</td>\n",
       "      <td>0.3870</td>\n",
       "      <td>0.2247</td>\n",
       "      <td>-1.9070</td>\n",
       "      <td>-28.9783</td>\n",
       "      <td>9.9520</td>\n",
       "      <td>5.7872</td>\n",
       "      <td>232.2820</td>\n",
       "      <td>g</td>\n",
       "    </tr>\n",
       "    <tr>\n",
       "      <th>7023</th>\n",
       "      <td>34.8443</td>\n",
       "      <td>27.2440</td>\n",
       "      <td>3.1901</td>\n",
       "      <td>0.1885</td>\n",
       "      <td>0.1023</td>\n",
       "      <td>21.8882</td>\n",
       "      <td>-20.8094</td>\n",
       "      <td>18.2946</td>\n",
       "      <td>14.1710</td>\n",
       "      <td>187.7520</td>\n",
       "      <td>g</td>\n",
       "    </tr>\n",
       "    <tr>\n",
       "      <th>11666</th>\n",
       "      <td>20.2153</td>\n",
       "      <td>12.2239</td>\n",
       "      <td>2.3170</td>\n",
       "      <td>0.4964</td>\n",
       "      <td>0.2964</td>\n",
       "      <td>0.3888</td>\n",
       "      <td>3.5360</td>\n",
       "      <td>10.8678</td>\n",
       "      <td>39.3447</td>\n",
       "      <td>57.3510</td>\n",
       "      <td>g</td>\n",
       "    </tr>\n",
       "    <tr>\n",
       "      <th>...</th>\n",
       "      <td>...</td>\n",
       "      <td>...</td>\n",
       "      <td>...</td>\n",
       "      <td>...</td>\n",
       "      <td>...</td>\n",
       "      <td>...</td>\n",
       "      <td>...</td>\n",
       "      <td>...</td>\n",
       "      <td>...</td>\n",
       "      <td>...</td>\n",
       "      <td>...</td>\n",
       "    </tr>\n",
       "    <tr>\n",
       "      <th>19015</th>\n",
       "      <td>21.3846</td>\n",
       "      <td>10.9170</td>\n",
       "      <td>2.6161</td>\n",
       "      <td>0.5857</td>\n",
       "      <td>0.3934</td>\n",
       "      <td>15.2618</td>\n",
       "      <td>11.5245</td>\n",
       "      <td>2.8766</td>\n",
       "      <td>2.4229</td>\n",
       "      <td>106.8258</td>\n",
       "      <td>h</td>\n",
       "    </tr>\n",
       "    <tr>\n",
       "      <th>19016</th>\n",
       "      <td>28.9452</td>\n",
       "      <td>6.7020</td>\n",
       "      <td>2.2672</td>\n",
       "      <td>0.5351</td>\n",
       "      <td>0.2784</td>\n",
       "      <td>37.0816</td>\n",
       "      <td>13.1853</td>\n",
       "      <td>-2.9632</td>\n",
       "      <td>86.7975</td>\n",
       "      <td>247.4560</td>\n",
       "      <td>h</td>\n",
       "    </tr>\n",
       "    <tr>\n",
       "      <th>19017</th>\n",
       "      <td>75.4455</td>\n",
       "      <td>47.5305</td>\n",
       "      <td>3.4483</td>\n",
       "      <td>0.1417</td>\n",
       "      <td>0.0549</td>\n",
       "      <td>-9.3561</td>\n",
       "      <td>41.0562</td>\n",
       "      <td>-9.4662</td>\n",
       "      <td>30.2987</td>\n",
       "      <td>256.5166</td>\n",
       "      <td>h</td>\n",
       "    </tr>\n",
       "    <tr>\n",
       "      <th>19018</th>\n",
       "      <td>120.5135</td>\n",
       "      <td>76.9018</td>\n",
       "      <td>3.9939</td>\n",
       "      <td>0.0944</td>\n",
       "      <td>0.0683</td>\n",
       "      <td>5.8043</td>\n",
       "      <td>-93.5224</td>\n",
       "      <td>-63.8389</td>\n",
       "      <td>84.6874</td>\n",
       "      <td>408.3166</td>\n",
       "      <td>h</td>\n",
       "    </tr>\n",
       "    <tr>\n",
       "      <th>19019</th>\n",
       "      <td>187.1814</td>\n",
       "      <td>53.0014</td>\n",
       "      <td>3.2093</td>\n",
       "      <td>0.2876</td>\n",
       "      <td>0.1539</td>\n",
       "      <td>-167.3125</td>\n",
       "      <td>-168.4558</td>\n",
       "      <td>31.4755</td>\n",
       "      <td>52.7310</td>\n",
       "      <td>272.3174</td>\n",
       "      <td>h</td>\n",
       "    </tr>\n",
       "  </tbody>\n",
       "</table>\n",
       "<p>13376 rows × 11 columns</p>\n",
       "</div>"
      ],
      "text/plain": [
       "        fLength   fWidth   fSize   fConc  fConc1     fAsym   fM3Long  \\\n",
       "2117    45.5945  21.2593  3.0538  0.2102  0.1144  -19.4628  -32.9385   \n",
       "10036   53.4552  13.4808  2.7536  0.3704  0.2055  -79.4267   30.9270   \n",
       "8166    40.6449  13.3364  2.5855  0.3870  0.2247   -1.9070  -28.9783   \n",
       "7023    34.8443  27.2440  3.1901  0.1885  0.1023   21.8882  -20.8094   \n",
       "11666   20.2153  12.2239  2.3170  0.4964  0.2964    0.3888    3.5360   \n",
       "...         ...      ...     ...     ...     ...       ...       ...   \n",
       "19015   21.3846  10.9170  2.6161  0.5857  0.3934   15.2618   11.5245   \n",
       "19016   28.9452   6.7020  2.2672  0.5351  0.2784   37.0816   13.1853   \n",
       "19017   75.4455  47.5305  3.4483  0.1417  0.0549   -9.3561   41.0562   \n",
       "19018  120.5135  76.9018  3.9939  0.0944  0.0683    5.8043  -93.5224   \n",
       "19019  187.1814  53.0014  3.2093  0.2876  0.1539 -167.3125 -168.4558   \n",
       "\n",
       "       fM3Trans   fAlpha     fDist class  \n",
       "2117     6.9607   9.0222  216.7460     g  \n",
       "10036   11.7094  10.0836  252.9500     g  \n",
       "8166     9.9520   5.7872  232.2820     g  \n",
       "7023    18.2946  14.1710  187.7520     g  \n",
       "11666   10.8678  39.3447   57.3510     g  \n",
       "...         ...      ...       ...   ...  \n",
       "19015    2.8766   2.4229  106.8258     h  \n",
       "19016   -2.9632  86.7975  247.4560     h  \n",
       "19017   -9.4662  30.2987  256.5166     h  \n",
       "19018  -63.8389  84.6874  408.3166     h  \n",
       "19019   31.4755  52.7310  272.3174     h  \n",
       "\n",
       "[13376 rows x 11 columns]"
      ]
     },
     "execution_count": 9,
     "metadata": {},
     "output_type": "execute_result"
    }
   ],
   "source": [
    "newDataset"
   ]
  },
  {
   "cell_type": "code",
   "execution_count": null,
   "id": "f3408aca-c0b0-44a1-b4c5-5cc37ac40a74",
   "metadata": {},
   "outputs": [],
   "source": []
  },
  {
   "cell_type": "code",
   "execution_count": 10,
   "id": "d49ae3f3-608f-4e90-9d45-a1065940a7e7",
   "metadata": {},
   "outputs": [],
   "source": [
    "x= newDataset.drop('class',axis=1) # 1 for column, 0 for index\n",
    "y= newDataset['class']\n",
    "x_train, x_test, y_train, y_test =train_test_split(x,y, test_size=0.3,random_state=42,shuffle=True)"
   ]
  },
  {
   "cell_type": "code",
   "execution_count": 11,
   "id": "1a17a408-e356-4e57-8383-1e94dc564b4e",
   "metadata": {},
   "outputs": [],
   "source": [
    "model = GaussianNB()"
   ]
  },
  {
   "cell_type": "code",
   "execution_count": 12,
   "id": "ad48155b-23a2-4162-a022-af5aafac5fca",
   "metadata": {},
   "outputs": [
    {
     "data": {
      "text/html": [
       "<style>#sk-container-id-1 {color: black;background-color: white;}#sk-container-id-1 pre{padding: 0;}#sk-container-id-1 div.sk-toggleable {background-color: white;}#sk-container-id-1 label.sk-toggleable__label {cursor: pointer;display: block;width: 100%;margin-bottom: 0;padding: 0.3em;box-sizing: border-box;text-align: center;}#sk-container-id-1 label.sk-toggleable__label-arrow:before {content: \"▸\";float: left;margin-right: 0.25em;color: #696969;}#sk-container-id-1 label.sk-toggleable__label-arrow:hover:before {color: black;}#sk-container-id-1 div.sk-estimator:hover label.sk-toggleable__label-arrow:before {color: black;}#sk-container-id-1 div.sk-toggleable__content {max-height: 0;max-width: 0;overflow: hidden;text-align: left;background-color: #f0f8ff;}#sk-container-id-1 div.sk-toggleable__content pre {margin: 0.2em;color: black;border-radius: 0.25em;background-color: #f0f8ff;}#sk-container-id-1 input.sk-toggleable__control:checked~div.sk-toggleable__content {max-height: 200px;max-width: 100%;overflow: auto;}#sk-container-id-1 input.sk-toggleable__control:checked~label.sk-toggleable__label-arrow:before {content: \"▾\";}#sk-container-id-1 div.sk-estimator input.sk-toggleable__control:checked~label.sk-toggleable__label {background-color: #d4ebff;}#sk-container-id-1 div.sk-label input.sk-toggleable__control:checked~label.sk-toggleable__label {background-color: #d4ebff;}#sk-container-id-1 input.sk-hidden--visually {border: 0;clip: rect(1px 1px 1px 1px);clip: rect(1px, 1px, 1px, 1px);height: 1px;margin: -1px;overflow: hidden;padding: 0;position: absolute;width: 1px;}#sk-container-id-1 div.sk-estimator {font-family: monospace;background-color: #f0f8ff;border: 1px dotted black;border-radius: 0.25em;box-sizing: border-box;margin-bottom: 0.5em;}#sk-container-id-1 div.sk-estimator:hover {background-color: #d4ebff;}#sk-container-id-1 div.sk-parallel-item::after {content: \"\";width: 100%;border-bottom: 1px solid gray;flex-grow: 1;}#sk-container-id-1 div.sk-label:hover label.sk-toggleable__label {background-color: #d4ebff;}#sk-container-id-1 div.sk-serial::before {content: \"\";position: absolute;border-left: 1px solid gray;box-sizing: border-box;top: 0;bottom: 0;left: 50%;z-index: 0;}#sk-container-id-1 div.sk-serial {display: flex;flex-direction: column;align-items: center;background-color: white;padding-right: 0.2em;padding-left: 0.2em;position: relative;}#sk-container-id-1 div.sk-item {position: relative;z-index: 1;}#sk-container-id-1 div.sk-parallel {display: flex;align-items: stretch;justify-content: center;background-color: white;position: relative;}#sk-container-id-1 div.sk-item::before, #sk-container-id-1 div.sk-parallel-item::before {content: \"\";position: absolute;border-left: 1px solid gray;box-sizing: border-box;top: 0;bottom: 0;left: 50%;z-index: -1;}#sk-container-id-1 div.sk-parallel-item {display: flex;flex-direction: column;z-index: 1;position: relative;background-color: white;}#sk-container-id-1 div.sk-parallel-item:first-child::after {align-self: flex-end;width: 50%;}#sk-container-id-1 div.sk-parallel-item:last-child::after {align-self: flex-start;width: 50%;}#sk-container-id-1 div.sk-parallel-item:only-child::after {width: 0;}#sk-container-id-1 div.sk-dashed-wrapped {border: 1px dashed gray;margin: 0 0.4em 0.5em 0.4em;box-sizing: border-box;padding-bottom: 0.4em;background-color: white;}#sk-container-id-1 div.sk-label label {font-family: monospace;font-weight: bold;display: inline-block;line-height: 1.2em;}#sk-container-id-1 div.sk-label-container {text-align: center;}#sk-container-id-1 div.sk-container {/* jupyter's `normalize.less` sets `[hidden] { display: none; }` but bootstrap.min.css set `[hidden] { display: none !important; }` so we also need the `!important` here to be able to override the default hidden behavior on the sphinx rendered scikit-learn.org. See: https://github.com/scikit-learn/scikit-learn/issues/21755 */display: inline-block !important;position: relative;}#sk-container-id-1 div.sk-text-repr-fallback {display: none;}</style><div id=\"sk-container-id-1\" class=\"sk-top-container\"><div class=\"sk-text-repr-fallback\"><pre>GaussianNB()</pre><b>In a Jupyter environment, please rerun this cell to show the HTML representation or trust the notebook. <br />On GitHub, the HTML representation is unable to render, please try loading this page with nbviewer.org.</b></div><div class=\"sk-container\" hidden><div class=\"sk-item\"><div class=\"sk-estimator sk-toggleable\"><input class=\"sk-toggleable__control sk-hidden--visually\" id=\"sk-estimator-id-1\" type=\"checkbox\" checked><label for=\"sk-estimator-id-1\" class=\"sk-toggleable__label sk-toggleable__label-arrow\">GaussianNB</label><div class=\"sk-toggleable__content\"><pre>GaussianNB()</pre></div></div></div></div></div>"
      ],
      "text/plain": [
       "GaussianNB()"
      ]
     },
     "execution_count": 12,
     "metadata": {},
     "output_type": "execute_result"
    }
   ],
   "source": [
    "model.fit(x_train,y_train)"
   ]
  },
  {
   "cell_type": "code",
   "execution_count": 13,
   "id": "cf5528d0-dd66-4b3f-bc0b-34b5fa4eb1bd",
   "metadata": {},
   "outputs": [],
   "source": [
    "y_pred = model.predict(x_test)"
   ]
  },
  {
   "cell_type": "code",
   "execution_count": 14,
   "id": "afb83578-903a-4a9b-a954-7d5bddcac4ce",
   "metadata": {},
   "outputs": [
    {
     "name": "stdout",
     "output_type": "stream",
     "text": [
      "              precision    recall  f1-score   support\n",
      "\n",
      "           g       0.61      0.89      0.72      2024\n",
      "           h       0.79      0.41      0.54      1989\n",
      "\n",
      "    accuracy                           0.66      4013\n",
      "   macro avg       0.70      0.65      0.63      4013\n",
      "weighted avg       0.70      0.66      0.64      4013\n",
      "\n"
     ]
    }
   ],
   "source": [
    "print(classification_report(y_test,y_pred))"
   ]
  },
  {
   "cell_type": "code",
   "execution_count": 15,
   "id": "460939a8-dbfa-45eb-96e5-94248b2e544d",
   "metadata": {},
   "outputs": [
    {
     "data": {
      "text/plain": [
       "<sklearn.metrics._plot.confusion_matrix.ConfusionMatrixDisplay at 0x297b833fac0>"
      ]
     },
     "execution_count": 15,
     "metadata": {},
     "output_type": "execute_result"
    },
    {
     "data": {
      "image/png": "[encoded data removed]",
      "text/plain": [
       "<Figure size 432x288 with 2 Axes>"
      ]
     },
     "metadata": {
      "needs_background": "light"
     },
     "output_type": "display_data"
    }
   ],
   "source": [
    "ConfusionMatrixDisplay(confusion_matrix(y_test, y_pred)).plot()"
   ]
  },
  {
   "cell_type": "code",
   "execution_count": null,
   "id": "50e75b8a-85e6-4d6f-ad82-b29726d903af",
   "metadata": {},
   "outputs": [],
   "source": []
  }
 ],
 "metadata": {
  "kernelspec": {
   "display_name": "Python 3",
   "language": "python",
   "name": "python3"
  },
  "language_info": {
   "codemirror_mode": {
    "name": "ipython",
    "version": 3
   },
   "file_extension": ".py",
   "mimetype": "text/x-python",
   "name": "python",
   "nbconvert_exporter": "python",
   "pygments_lexer": "ipython3",
   "version": "3.9.6"
  }
 },
 "nbformat": 4,
 "nbformat_minor": 5
}
